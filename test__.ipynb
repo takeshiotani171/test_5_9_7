{
 "cells": [
  {
   "cell_type": "code",
   "execution_count": 1,
   "metadata": {},
   "outputs": [],
   "source": [
    "import math\n",
    "import numpy as np\n",
    "import pandas as pd\n",
    "import matplotlib.pyplot as plt\n",
    "import seaborn as sns\n",
    "from sklearn.model_selection import train_test_split\n",
    "from sklearn.model_selection import GridSearchCV\n",
    "from sklearn.datasets import load_boston\n",
    "from sklearn.model_selection import train_test_split\n",
    "from scipy import stats"
   ]
  },
  {
   "cell_type": "code",
   "execution_count": 2,
   "id": "8110f5ac",
   "metadata": {},
   "outputs": [],
   "source": [
    "from datetime import date, timedelta\n",
    "import calendar as ca\n",
    "import pandas as pd\n",
    "import numpy as np\n",
    "from sklearn.metrics import mean_squared_error\n",
    "import lightgbm as lgb"
   ]
  },
  {
   "cell_type": "code",
   "execution_count": 4,
   "id": "f5fee7e0",
   "metadata": {},
   "outputs": [],
   "source": [
    "kobe_sales = pd.read_csv('kobe_sales.csv')"
   ]
  },
  {
   "cell_type": "code",
   "execution_count": 5,
   "id": "91452284",
   "metadata": {},
   "outputs": [
    {
     "data": {
      "text/html": [
       "<div>\n",
       "<style scoped>\n",
       "    .dataframe tbody tr th:only-of-type {\n",
       "        vertical-align: middle;\n",
       "    }\n",
       "\n",
       "    .dataframe tbody tr th {\n",
       "        vertical-align: top;\n",
       "    }\n",
       "\n",
       "    .dataframe thead th {\n",
       "        text-align: right;\n",
       "    }\n",
       "</style>\n",
       "<table border=\"1\" class=\"dataframe\">\n",
       "  <thead>\n",
       "    <tr style=\"text-align: right;\">\n",
       "      <th></th>\n",
       "      <th>Order type</th>\n",
       "      <th>Product type</th>\n",
       "      <th>Date</th>\n",
       "      <th>Quantity</th>\n",
       "      <th>Price</th>\n",
       "      <th>Unit Cost</th>\n",
       "    </tr>\n",
       "  </thead>\n",
       "  <tbody>\n",
       "    <tr>\n",
       "      <th>0</th>\n",
       "      <td>Web</td>\n",
       "      <td>ヘッドセット</td>\n",
       "      <td>2019-01-01</td>\n",
       "      <td>2</td>\n",
       "      <td>16300</td>\n",
       "      <td>10600</td>\n",
       "    </tr>\n",
       "    <tr>\n",
       "      <th>1</th>\n",
       "      <td>店舗</td>\n",
       "      <td>ヘッドセット</td>\n",
       "      <td>2019-01-01</td>\n",
       "      <td>1</td>\n",
       "      <td>14000</td>\n",
       "      <td>8300</td>\n",
       "    </tr>\n",
       "    <tr>\n",
       "      <th>2</th>\n",
       "      <td>Web</td>\n",
       "      <td>オーディオ</td>\n",
       "      <td>2019-01-01</td>\n",
       "      <td>2</td>\n",
       "      <td>4000</td>\n",
       "      <td>2200</td>\n",
       "    </tr>\n",
       "    <tr>\n",
       "      <th>3</th>\n",
       "      <td>店舗</td>\n",
       "      <td>オーディオ</td>\n",
       "      <td>2019-01-01</td>\n",
       "      <td>1</td>\n",
       "      <td>3400</td>\n",
       "      <td>2100</td>\n",
       "    </tr>\n",
       "    <tr>\n",
       "      <th>4</th>\n",
       "      <td>E-mail</td>\n",
       "      <td>オーディオ</td>\n",
       "      <td>2019-01-01</td>\n",
       "      <td>3</td>\n",
       "      <td>2700</td>\n",
       "      <td>1600</td>\n",
       "    </tr>\n",
       "  </tbody>\n",
       "</table>\n",
       "</div>"
      ],
      "text/plain": [
       "  Order type Product type        Date  Quantity  Price  Unit Cost\n",
       "0        Web       ヘッドセット  2019-01-01         2  16300      10600\n",
       "1         店舗       ヘッドセット  2019-01-01         1  14000       8300\n",
       "2        Web        オーディオ  2019-01-01         2   4000       2200\n",
       "3         店舗        オーディオ  2019-01-01         1   3400       2100\n",
       "4     E-mail        オーディオ  2019-01-01         3   2700       1600"
      ]
     },
     "execution_count": 5,
     "metadata": {},
     "output_type": "execute_result"
    }
   ],
   "source": [
    "kobe_sales.head()"
   ]
  },
  {
   "cell_type": "code",
   "execution_count": 4,
   "id": "b3a311aa",
   "metadata": {},
   "outputs": [],
   "source": [
    "shop_list = [saitama_sales, yokohama_sales, shijyou_sales, kobe_sales, umeda_sales, toyohashi_sales, nagoya_sales, sinnjyuku_sales]"
   ]
  },
  {
   "cell_type": "code",
   "execution_count": 5,
   "id": "ca741736",
   "metadata": {},
   "outputs": [],
   "source": [
    "for shop in shop_list:\n",
    "    shop[\"Date\"] = pd.to_datetime(shop[\"Date\"], format=\"%Y-%m-%d\")"
   ]
  },
  {
   "cell_type": "code",
   "execution_count": 6,
   "id": "795732e0",
   "metadata": {},
   "outputs": [],
   "source": [
    "from dateutil.relativedelta import relativedelta"
   ]
  },
  {
   "cell_type": "code",
   "execution_count": 7,
   "id": "08e02c24",
   "metadata": {},
   "outputs": [],
   "source": [
    "for shop in shop_list:\n",
    "    three_years_from_now = []\n",
    "    for date in shop['Date']:\n",
    "        three_years_from_now.append(date + relativedelta(years=3))\n",
    "    shop['Date'] = three_years_from_now"
   ]
  },
  {
   "cell_type": "code",
   "execution_count": 8,
   "id": "1d27cd3d",
   "metadata": {},
   "outputs": [
    {
     "data": {
      "text/html": [
       "<div>\n",
       "<style scoped>\n",
       "    .dataframe tbody tr th:only-of-type {\n",
       "        vertical-align: middle;\n",
       "    }\n",
       "\n",
       "    .dataframe tbody tr th {\n",
       "        vertical-align: top;\n",
       "    }\n",
       "\n",
       "    .dataframe thead th {\n",
       "        text-align: right;\n",
       "    }\n",
       "</style>\n",
       "<table border=\"1\" class=\"dataframe\">\n",
       "  <thead>\n",
       "    <tr style=\"text-align: right;\">\n",
       "      <th></th>\n",
       "      <th>Order type</th>\n",
       "      <th>Product type</th>\n",
       "      <th>Date</th>\n",
       "      <th>Quantity</th>\n",
       "      <th>Price</th>\n",
       "      <th>Unit Cost</th>\n",
       "    </tr>\n",
       "  </thead>\n",
       "  <tbody>\n",
       "    <tr>\n",
       "      <th>0</th>\n",
       "      <td>Web</td>\n",
       "      <td>タブレット</td>\n",
       "      <td>2019-01-01</td>\n",
       "      <td>1</td>\n",
       "      <td>64400</td>\n",
       "      <td>38900</td>\n",
       "    </tr>\n",
       "    <tr>\n",
       "      <th>1</th>\n",
       "      <td>Web</td>\n",
       "      <td>Web 編集</td>\n",
       "      <td>2019-01-01</td>\n",
       "      <td>1</td>\n",
       "      <td>15100</td>\n",
       "      <td>8400</td>\n",
       "    </tr>\n",
       "    <tr>\n",
       "      <th>2</th>\n",
       "      <td>Web</td>\n",
       "      <td>ヘッドセット</td>\n",
       "      <td>2019-01-01</td>\n",
       "      <td>1</td>\n",
       "      <td>7700</td>\n",
       "      <td>4600</td>\n",
       "    </tr>\n",
       "    <tr>\n",
       "      <th>3</th>\n",
       "      <td>Web</td>\n",
       "      <td>ゲーム</td>\n",
       "      <td>2019-01-01</td>\n",
       "      <td>1</td>\n",
       "      <td>7200</td>\n",
       "      <td>3800</td>\n",
       "    </tr>\n",
       "    <tr>\n",
       "      <th>4</th>\n",
       "      <td>E-mail</td>\n",
       "      <td>オーディオ</td>\n",
       "      <td>2019-01-01</td>\n",
       "      <td>1</td>\n",
       "      <td>2400</td>\n",
       "      <td>1400</td>\n",
       "    </tr>\n",
       "    <tr>\n",
       "      <th>...</th>\n",
       "      <td>...</td>\n",
       "      <td>...</td>\n",
       "      <td>...</td>\n",
       "      <td>...</td>\n",
       "      <td>...</td>\n",
       "      <td>...</td>\n",
       "    </tr>\n",
       "    <tr>\n",
       "      <th>9686</th>\n",
       "      <td>Web</td>\n",
       "      <td>ゲーム</td>\n",
       "      <td>2022-06-29</td>\n",
       "      <td>1</td>\n",
       "      <td>16000</td>\n",
       "      <td>10000</td>\n",
       "    </tr>\n",
       "    <tr>\n",
       "      <th>9687</th>\n",
       "      <td>Web</td>\n",
       "      <td>ゲーム</td>\n",
       "      <td>2022-06-29</td>\n",
       "      <td>1</td>\n",
       "      <td>13600</td>\n",
       "      <td>7000</td>\n",
       "    </tr>\n",
       "    <tr>\n",
       "      <th>9688</th>\n",
       "      <td>Web</td>\n",
       "      <td>ゲーム</td>\n",
       "      <td>2022-06-29</td>\n",
       "      <td>1</td>\n",
       "      <td>8100</td>\n",
       "      <td>4200</td>\n",
       "    </tr>\n",
       "    <tr>\n",
       "      <th>9689</th>\n",
       "      <td>Web</td>\n",
       "      <td>ゲーム</td>\n",
       "      <td>2022-06-29</td>\n",
       "      <td>11</td>\n",
       "      <td>8100</td>\n",
       "      <td>4500</td>\n",
       "    </tr>\n",
       "    <tr>\n",
       "      <th>9690</th>\n",
       "      <td>Web</td>\n",
       "      <td>ゲーム</td>\n",
       "      <td>2022-06-29</td>\n",
       "      <td>1</td>\n",
       "      <td>5200</td>\n",
       "      <td>3300</td>\n",
       "    </tr>\n",
       "  </tbody>\n",
       "</table>\n",
       "<p>9691 rows × 6 columns</p>\n",
       "</div>"
      ],
      "text/plain": [
       "     Order type Product type       Date  Quantity  Price  Unit Cost\n",
       "0           Web        タブレット 2019-01-01         1  64400      38900\n",
       "1           Web       Web 編集 2019-01-01         1  15100       8400\n",
       "2           Web       ヘッドセット 2019-01-01         1   7700       4600\n",
       "3           Web          ゲーム 2019-01-01         1   7200       3800\n",
       "4        E-mail        オーディオ 2019-01-01         1   2400       1400\n",
       "...         ...          ...        ...       ...    ...        ...\n",
       "9686        Web          ゲーム 2022-06-29         1  16000      10000\n",
       "9687        Web          ゲーム 2022-06-29         1  13600       7000\n",
       "9688        Web          ゲーム 2022-06-29         1   8100       4200\n",
       "9689        Web          ゲーム 2022-06-29        11   8100       4500\n",
       "9690        Web          ゲーム 2022-06-29         1   5200       3300\n",
       "\n",
       "[9691 rows x 6 columns]"
      ]
     },
     "execution_count": 8,
     "metadata": {},
     "output_type": "execute_result"
    }
   ],
   "source": [
    "saitama_sales"
   ]
  },
  {
   "cell_type": "code",
   "execution_count": 11,
   "id": "87323b93",
   "metadata": {},
   "outputs": [],
   "source": [
    "saitama_sales.to_csv('base/saitama_sales.csv', index=False)\n",
    "yokohama_sales.to_csv('base/yokohama_sales.csv', index=False)\n",
    "shijyou_sales.to_csv('base/shijyou_sales.csv', index=False)\n",
    "kobe_sales.to_csv('base/kobe_sales.csv', index=False)\n",
    "umeda_sales.to_csv('base/umeda_sales.csv', index=False)\n",
    "toyohashi_sales.to_csv('base/toyohashi_sales.csv', index=False)\n",
    "nagoya_sales.to_csv('base/nagoya_sales.csv', index=False)\n",
    "sinnjyuku_sales.to_csv('base/sinnjyuku_sales.csv', index=False)"
   ]
  },
  {
   "cell_type": "code",
   "execution_count": null,
   "id": "5b9ddf7b",
   "metadata": {},
   "outputs": [],
   "source": []
  },
  {
   "cell_type": "code",
   "execution_count": 9,
   "id": "454583cd",
   "metadata": {},
   "outputs": [],
   "source": [
    "import datetime\n",
    "dt_now = datetime.datetime.now()"
   ]
  },
  {
   "cell_type": "code",
   "execution_count": 16,
   "id": "010e5b2d",
   "metadata": {},
   "outputs": [
    {
     "data": {
      "text/plain": [
       "datetime.datetime(2022, 2, 26, 17, 40, 36, 608593)"
      ]
     },
     "execution_count": 16,
     "metadata": {},
     "output_type": "execute_result"
    }
   ],
   "source": [
    "dt_now"
   ]
  },
  {
   "cell_type": "code",
   "execution_count": 17,
   "id": "8e27d0f5",
   "metadata": {},
   "outputs": [
    {
     "name": "stdout",
     "output_type": "stream",
     "text": [
      "2022-02-26\n"
     ]
    }
   ],
   "source": [
    "dt_now = datetime.date.today()\n",
    "\n",
    "print(dt_now)"
   ]
  },
  {
   "cell_type": "code",
   "execution_count": 10,
   "id": "2d7931b4",
   "metadata": {},
   "outputs": [],
   "source": [
    "saitama_sales_past = saitama_sales[saitama_sales['Date'] < str(dt_now)]\n",
    "yokohama_sales_past = yokohama_sales[yokohama_sales['Date'] < str(dt_now)]\n",
    "shijyou_sales_past = shijyou_sales[shijyou_sales['Date'] < str(dt_now)]\n",
    "kobe_sales_past = kobe_sales[kobe_sales['Date'] < str(dt_now)]\n",
    "umeda_sales_past = umeda_sales[umeda_sales['Date'] < str(dt_now)]\n",
    "toyohashi_sales_past = toyohashi_sales[toyohashi_sales['Date'] < str(dt_now)]\n",
    "nagoya_sales_past = nagoya_sales[nagoya_sales['Date'] < str(dt_now)]\n",
    "sinnjyuku_sales_past = sinnjyuku_sales[sinnjyuku_sales['Date'] < str(dt_now)]"
   ]
  },
  {
   "cell_type": "code",
   "execution_count": 12,
   "id": "a10e5f9e",
   "metadata": {},
   "outputs": [
    {
     "data": {
      "text/html": [
       "<div>\n",
       "<style scoped>\n",
       "    .dataframe tbody tr th:only-of-type {\n",
       "        vertical-align: middle;\n",
       "    }\n",
       "\n",
       "    .dataframe tbody tr th {\n",
       "        vertical-align: top;\n",
       "    }\n",
       "\n",
       "    .dataframe thead th {\n",
       "        text-align: right;\n",
       "    }\n",
       "</style>\n",
       "<table border=\"1\" class=\"dataframe\">\n",
       "  <thead>\n",
       "    <tr style=\"text-align: right;\">\n",
       "      <th></th>\n",
       "      <th>Order type</th>\n",
       "      <th>Product type</th>\n",
       "      <th>Date</th>\n",
       "      <th>Quantity</th>\n",
       "      <th>Price</th>\n",
       "      <th>Unit Cost</th>\n",
       "    </tr>\n",
       "  </thead>\n",
       "  <tbody>\n",
       "    <tr>\n",
       "      <th>0</th>\n",
       "      <td>Web</td>\n",
       "      <td>ヘッドセット</td>\n",
       "      <td>2019-01-01</td>\n",
       "      <td>2</td>\n",
       "      <td>16300</td>\n",
       "      <td>10600</td>\n",
       "    </tr>\n",
       "    <tr>\n",
       "      <th>1</th>\n",
       "      <td>店舗</td>\n",
       "      <td>ヘッドセット</td>\n",
       "      <td>2019-01-01</td>\n",
       "      <td>1</td>\n",
       "      <td>14000</td>\n",
       "      <td>8300</td>\n",
       "    </tr>\n",
       "    <tr>\n",
       "      <th>2</th>\n",
       "      <td>Web</td>\n",
       "      <td>オーディオ</td>\n",
       "      <td>2019-01-01</td>\n",
       "      <td>2</td>\n",
       "      <td>4000</td>\n",
       "      <td>2200</td>\n",
       "    </tr>\n",
       "    <tr>\n",
       "      <th>3</th>\n",
       "      <td>店舗</td>\n",
       "      <td>オーディオ</td>\n",
       "      <td>2019-01-01</td>\n",
       "      <td>1</td>\n",
       "      <td>3400</td>\n",
       "      <td>2100</td>\n",
       "    </tr>\n",
       "    <tr>\n",
       "      <th>4</th>\n",
       "      <td>E-mail</td>\n",
       "      <td>オーディオ</td>\n",
       "      <td>2019-01-01</td>\n",
       "      <td>3</td>\n",
       "      <td>2700</td>\n",
       "      <td>1600</td>\n",
       "    </tr>\n",
       "  </tbody>\n",
       "</table>\n",
       "</div>"
      ],
      "text/plain": [
       "  Order type Product type       Date  Quantity  Price  Unit Cost\n",
       "0        Web       ヘッドセット 2019-01-01         2  16300      10600\n",
       "1         店舗       ヘッドセット 2019-01-01         1  14000       8300\n",
       "2        Web        オーディオ 2019-01-01         2   4000       2200\n",
       "3         店舗        オーディオ 2019-01-01         1   3400       2100\n",
       "4     E-mail        オーディオ 2019-01-01         3   2700       1600"
      ]
     },
     "execution_count": 12,
     "metadata": {},
     "output_type": "execute_result"
    }
   ],
   "source": [
    "kobe_sales_past.head()"
   ]
  },
  {
   "cell_type": "code",
   "execution_count": 20,
   "id": "0f58c80e",
   "metadata": {},
   "outputs": [],
   "source": [
    "# saitama_sales_past.to_csv('past/saitama_sales_past.csv', index=False)\n",
    "# yokohama_sales_past.to_csv('past/yokohama_sales_past.csv', index=False)\n",
    "# shijyou_sales_past.to_csv('past/shijyou_sales_past.csv', index=False)\n",
    "# kobe_sales_past.to_csv('past/kobe_sales_past.csv', index=False)\n",
    "# umeda_sales_past.to_csv('past/umeda_sales_past.csv', index=False)\n",
    "# toyohashi_sales_past.to_csv('past/toyohashi_sales_past.csv', index=False)\n",
    "# nagoya_sales_past.to_csv('past/nagoya_sales_past_past.csv', index=False)\n",
    "# sinnjyuku_sales_past.to_csv('past/sinnjyuku_sales_past.csv', index=False)"
   ]
  },
  {
   "cell_type": "code",
   "execution_count": 21,
   "id": "225f0134",
   "metadata": {},
   "outputs": [],
   "source": [
    "saitama_sales_future = saitama_sales[saitama_sales['Date'] >= str(dt_now)]\n",
    "yokohama_sales_future = yokohama_sales[yokohama_sales['Date'] >= str(dt_now)]\n",
    "shijyou_sales_future = shijyou_sales[shijyou_sales['Date'] >= str(dt_now)]\n",
    "kobe_sales_future = kobe_sales[kobe_sales['Date'] >= str(dt_now)]\n",
    "umeda_sales_future = umeda_sales[umeda_sales['Date'] >= str(dt_now)]\n",
    "toyohashi_sales_future = toyohashi_sales[toyohashi_sales['Date'] >= str(dt_now)]\n",
    "nagoya_sales_future = nagoya_sales[nagoya_sales['Date'] >= str(dt_now)]\n",
    "sinnjyuku_sales_future = sinnjyuku_sales[sinnjyuku_sales['Date'] >= str(dt_now)]"
   ]
  },
  {
   "cell_type": "code",
   "execution_count": 22,
   "id": "8ff18ac8",
   "metadata": {},
   "outputs": [],
   "source": [
    "# saitama_sales_future.to_csv('future/saitama_sales_future.csv', index=False)\n",
    "# yokohama_sales_future.to_csv('future/yokohama_sales_future.csv', index=False)\n",
    "# shijyou_sales_future.to_csv('future/shijyou_sales_future.csv', index=False)\n",
    "# kobe_sales_future.to_csv('future/kobe_sales_future.csv', index=False)\n",
    "# umeda_sales_future.to_csv('future/umeda_sales_future.csv', index=False)\n",
    "# toyohashi_sales_future.to_csv('future/toyohashi_sales_future.csv', index=False)\n",
    "# nagoya_sales_future.to_csv('future/nagoya_sales_future_future.csv', index=False)\n",
    "# sinnjyuku_sales_future.to_csv('future/sinnjyuku_sales_future.csv', index=False)"
   ]
  }
 ],
 "metadata": {
  "interpreter": {
   "hash": "85094c22a70d9a920ae9c057df293a164b47efdeb27f1fcd1eefac4aefb23a40"
  },
  "kernelspec": {
   "display_name": "Python 3.8.11 64-bit ('kaggle_3': conda)",
   "name": "python3"
  },
  "language_info": {
   "codemirror_mode": {
    "name": "ipython",
    "version": 3
   },
   "file_extension": ".py",
   "mimetype": "text/x-python",
   "name": "python",
   "nbconvert_exporter": "python",
   "pygments_lexer": "ipython3",
   "version": "3.8.11"
  }
 },
 "nbformat": 4,
 "nbformat_minor": 5
}
